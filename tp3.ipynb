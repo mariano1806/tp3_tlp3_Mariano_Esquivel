{
 "cells": [
  {
   "cell_type": "markdown",
   "id": "498731c6",
   "metadata": {},
   "source": [
    "# Trabajo Practico n3 - Trabajando con Lists y Sets.\n",
    "## Criterios de evaluación.\n",
    "\n",
    "* Se deben utilizar nombres de variables descriptivos y claros (Utilizar la nomeclatura correspondiente para los nombres de variables).\n",
    "* Comentarios claros y concisos que expliquen el propósito de cada sección del código.\n",
    "* Utilizar mensajes de commit **descriptivos**. (Puedes utilizar la extension CONVENTIONAL COMMIT de VS-CODE). \n",
    "* Entrega en tiempo y forma.\n",
    "* Todo el código desarrollado debe ser subido a un repositorio en GitHub (el nombre del repositorio de seguir la siguiente estructura: tp3_tlp3_nombre_apellido).\n",
    "* Para resolver las actividades se debe insertar casillas de codigo entre cada actividad del cuaderno de Jupyter\n",
    "* El repositorio de GitHub debe incluir un archivo README.md con las instrucciones necesarias para la correcta ejecución del código.\n",
    "\n",
    "### ¡Importante!\n",
    "**El incumplimiento de los criterios de evaluación restará puntos en la nota final del práctico!**"
   ]
  },
  {
   "cell_type": "markdown",
   "id": "b361a7b6",
   "metadata": {},
   "source": [
    "### Actividad 1: \n",
    "Suma de todos los elementos de una lista, utilizando bucles repetitivos (for, while)."
   ]
  },
  {
   "cell_type": "code",
   "execution_count": null,
   "id": "26009294",
   "metadata": {},
   "outputs": [
    {
     "name": "stdout",
     "output_type": "stream",
     "text": [
      "Suma usando for: 204\n",
      "Suma usando while: 204\n"
     ]
    }
   ],
   "source": [
    "lista_numeros = [14, 23, 34, 48, 85]\n",
    "\n",
    "#Usando bucle for\n",
    "suma_total_for = 0\n",
    "\n",
    "for numero in lista_numeros:\n",
    "    suma_total_for += numero\n",
    "\n",
    "print(\"Suma usando for:\", suma_total_for)\n",
    "\n",
    "#Usando bucle while\n",
    "indice = 0\n",
    "suma_total_while = 0\n",
    "\n",
    "while indice < len(lista_numeros):\n",
    "    suma_total_while += lista_numeros[indice]\n",
    "    indice += 1\n",
    "\n",
    "print(\"Suma usando while:\", suma_total_while)"
   ]
  },
  {
   "cell_type": "markdown",
   "id": "0c239195",
   "metadata": {},
   "source": [
    "### Actividad 2: \n",
    "Encontrar el número más grande en una lista, utilizando bucles repetitivos (for, while)."
   ]
  },
  {
   "cell_type": "code",
   "execution_count": 2,
   "id": "3611d25a",
   "metadata": {},
   "outputs": [
    {
     "name": "stdout",
     "output_type": "stream",
     "text": [
      "Lista generada: [31, 52, 29, 10, 92]\n",
      "Mayor con for: 92\n",
      "Mayor con while: 92\n"
     ]
    }
   ],
   "source": [
    "from random import randint\n",
    "\n",
    "# Generamos una lista de 5 números aleatorios entre 1 y 100\n",
    "numeros_aleatorios = [randint(1, 100) for i in range(5)]\n",
    "\n",
    "print(\"Lista generada:\", numeros_aleatorios)\n",
    "\n",
    "# --- Usando bucle for ---\n",
    "# Suponemos que el primer número es el mayor al comenzar\n",
    "numero_maximo_for = numeros_aleatorios[0]\n",
    "\n",
    "# Recorremos la lista comparando cada número\n",
    "for numero in numeros_aleatorios:\n",
    "    if numero > numero_maximo_for:\n",
    "        numero_maximo_for = numero\n",
    "\n",
    "print(\"Mayor con for:\", numero_maximo_for)\n",
    "\n",
    "# --- Usando bucle while ---\n",
    "# Inicializamos el índice y la variable para el mayor\n",
    "indice = 0\n",
    "numero_maximo_while = numeros_aleatorios[0]\n",
    "\n",
    "# Recorremos la lista mientras el índice sea válido\n",
    "while indice < len(numeros_aleatorios):\n",
    "    if numeros_aleatorios[indice] > numero_maximo_while:\n",
    "        numero_maximo_while = numeros_aleatorios[indice]\n",
    "    indice += 1\n",
    "\n",
    "print(\"Mayor con while:\", numero_maximo_while)\n"
   ]
  },
  {
   "cell_type": "markdown",
   "id": "70a24b97",
   "metadata": {},
   "source": [
    "### Actividad 3:\n",
    "Contar cuántas veces aparece un número específico. Utiliza estructuras repetitivas para la resolucion de este ejercicio. "
   ]
  },
  {
   "cell_type": "code",
   "execution_count": 3,
   "id": "a9c8ebc7",
   "metadata": {},
   "outputs": [
    {
     "name": "stdout",
     "output_type": "stream",
     "text": [
      "Lista generada: [84, 185, 91, 12, 63, 21, 167, 96, 52, 195, 16, 51, 165, 187, 25, 26, 49, 194, 121, 136]\n",
      "Número a buscar: 50\n",
      "Cantidad con while: 0\n"
     ]
    }
   ],
   "source": [
    "from random import randint\n",
    "\n",
    "# Generamos una lista de 20 números aleatorios entre 1 y 200\n",
    "lista_numeros = [randint(1, 200) for i in range(20)]\n",
    "\n",
    "# Número que queremos contar en la lista\n",
    "numero_buscado = 50\n",
    "\n",
    "print(\"Lista generada:\", lista_numeros)\n",
    "print(\"Número a buscar:\", numero_buscado)\n",
    "\n",
    "# --- Usando bucle while ---\n",
    "contador_while = 0\n",
    "indice = 0\n",
    "\n",
    "# Recorremos la lista con while\n",
    "while indice < len(lista_numeros):\n",
    "    if lista_numeros[indice] == numero_buscado:\n",
    "        contador_while += 1\n",
    "    indice += 1\n",
    "\n",
    "print(\"Cantidad con while:\", contador_while)\n"
   ]
  },
  {
   "cell_type": "markdown",
   "id": "b8dac397",
   "metadata": {},
   "source": [
    "### Actividad 4: \n",
    "Invertir una lista sin usar reverse() ni [::-1]"
   ]
  },
  {
   "cell_type": "code",
   "execution_count": null,
   "id": "d04fd492",
   "metadata": {},
   "outputs": [
    {
     "name": "stdout",
     "output_type": "stream",
     "text": [
      "Lista original: [37, 43, 42, 34, 47, 18, 46, 43]\n",
      "Lista invertida con for: [43, 46, 18, 47, 34, 42, 43, 37]\n"
     ]
    }
   ],
   "source": [
    "from random import randint\n",
    "\n",
    "# Generamos una lista de 8 números aleatorios entre 1 y 50\n",
    "lista_original = [randint(1, 50) for i in range(8)]\n",
    "\n",
    "print(\"Lista original:\", lista_original)\n",
    "\n",
    "# --- Invertir usando bucle for ---\n",
    "lista_invertida_for = []\n",
    "\n",
    "# Recorremos la lista original desde el último índice hasta el primero\n",
    "for i in range(len(lista_original) - 1, -1, -1):\n",
    "    lista_invertida_for.append(lista_original[i])\n",
    "\n",
    "print(\"Lista invertida con for:\", lista_invertida_for)"
   ]
  },
  {
   "cell_type": "markdown",
   "id": "8889d0f2",
   "metadata": {},
   "source": [
    "### Actividad 5:\n",
    "Sumar los elementos de dos listas posición por posición, utilizando solo bucles repetititivos (for,while)."
   ]
  },
  {
   "cell_type": "code",
   "execution_count": 18,
   "id": "bc0ec844",
   "metadata": {},
   "outputs": [
    {
     "name": "stdout",
     "output_type": "stream",
     "text": [
      "Resultado de la Suma: [3, 7, 11, 16, 18]\n"
     ]
    }
   ],
   "source": [
    "lista_uno = [2, 4, 6, 7, 8]\n",
    "lista_dos = [1, 3, 5, 9, 10]\n",
    "\n",
    "# --- Usando bucle for ---\n",
    "suma_listas_for = []\n",
    "\n",
    "# Recorremos ambas listas por índice y sumamos los elementos\n",
    "for i in range(len(lista_uno)):\n",
    "    suma_listas_for.append(lista_uno[i] + lista_dos[i])\n",
    "\n",
    "print(\"Resultado de la Suma:\", suma_listas_for)"
   ]
  },
  {
   "cell_type": "markdown",
   "id": "8ce33e6b",
   "metadata": {},
   "source": [
    "### Actividad 6:\n",
    "\n",
    "Escribir un programa que almacene el abecedario en una lista, elimine de la lista las letras que ocupen posiciones múltiplos de 3, y muestre por pantalla la lista resultante."
   ]
  },
  {
   "cell_type": "code",
   "execution_count": null,
   "id": "b07326e2",
   "metadata": {},
   "outputs": [
    {
     "name": "stdout",
     "output_type": "stream",
     "text": [
      "Abecedario original: ['a', 'b', 'c', 'd', 'e', 'f', 'g', 'h', 'i', 'j', 'k', 'l', 'm', 'n', 'o', 'p', 'q', 'r', 's', 't', 'u', 'v', 'w', 'x', 'y', 'z']\n",
      "Abecedario sin letras en posiciones múltiplos de 3: ['a', 'b', 'd', 'e', 'g', 'h', 'j', 'k', 'm', 'n', 'p', 'q', 's', 't', 'v', 'w', 'y', 'z']\n"
     ]
    }
   ],
   "source": [
    "#lista con las letras del abecedario en minúsculas\n",
    "#tambien vi la posibilidad de importar ascii_lowercase para obtener las letras del abecedario(lo comento para no olvidarme)\n",
    "abecedario = [\n",
    "    'a', 'b', 'c', 'd', 'e', 'f', 'g', 'h', 'i',\n",
    "    'j', 'k', 'l', 'm', 'n', 'o', 'p', 'q', 'r',\n",
    "    's', 't', 'u', 'v', 'w', 'x', 'y', 'z'\n",
    "]\n",
    "\n",
    "print(\"Abecedario original:\", abecedario)\n",
    "\n",
    "# Creamos una nueva lista excluyendo las letras en posiciones múltiplos de 3\n",
    "# Recordando que las posiciones comienzan desde 1 (no desde el índice 0)\n",
    "abecedario_filtrado = []\n",
    "\n",
    "for i in range(len(abecedario)):\n",
    "    if (i + 1) % 3 != 0:\n",
    "        abecedario_filtrado.append(abecedario[i])\n",
    "\n",
    "print(\"Abecedario sin letras en posiciones múltiplos de 3:\", abecedario_filtrado)\n"
   ]
  },
  {
   "cell_type": "markdown",
   "id": "5bfeb4b5",
   "metadata": {},
   "source": [
    "### Actividad 7:\n",
    "\n",
    "Escribir un programa que pida al usuario una palabra y muestre por pantalla si es un palíndromo (una palabra que se escribe de la misma forma al derecho y al reves)."
   ]
  },
  {
   "cell_type": "code",
   "execution_count": 22,
   "id": "2365afcc",
   "metadata": {},
   "outputs": [
    {
     "name": "stdout",
     "output_type": "stream",
     "text": [
      "La palabra es un palíndromo.\n"
     ]
    }
   ],
   "source": [
    "palabra = input(\"Ingresa una palabra: \")\n",
    "\n",
    "# Convertimos la palabra a minúsculas para evitar errores por mayúsculas\n",
    "palabra = palabra.lower()\n",
    "\n",
    "# Comparamos la palabra con su versión invertida\n",
    "es_palindromo = True\n",
    "longitud = len(palabra)\n",
    "indice = 0\n",
    "\n",
    "# Recorremos la mitad de la palabra y comparamos letras opuestas\n",
    "while indice < longitud // 2:\n",
    "    if palabra[indice] != palabra[longitud - 1 - indice]:\n",
    "        es_palindromo = False\n",
    "        break\n",
    "    indice += 1\n",
    "\n",
    "# Mostramos el resultado\n",
    "if es_palindromo:\n",
    "    print(\"La palabra es un palíndromo.\")\n",
    "else:\n",
    "    print(\"La palabra no es un palíndromo.\")\n"
   ]
  },
  {
   "cell_type": "markdown",
   "id": "ed8b51be",
   "metadata": {},
   "source": [
    "### Actividad 8:\n",
    "\n",
    "Teniendo en cuenta el conjunto 1 y el conjunto 2, sin usar el operador de intersección &, calcular la intersección de dichos conjuntos."
   ]
  },
  {
   "cell_type": "code",
   "execution_count": null,
   "id": "21a434b9",
   "metadata": {},
   "outputs": [
    {
     "name": "stdout",
     "output_type": "stream",
     "text": [
      "Intersección de los conjuntos: {3, 4}\n"
     ]
    }
   ],
   "source": [
    "conjunto_1 = {1, 2, 3, 4}\n",
    "conjunto_2 = {3, 4, 5, 6}\n",
    "\n",
    "interseccion = set()\n",
    "\n",
    "# Recorremos cada elemento del primer conjunto\n",
    "for elemento in conjunto_1:\n",
    "    # Si el elemento también está en el segundo conjunto, lo agregamos\n",
    "    if elemento in conjunto_2:\n",
    "        interseccion.add(elemento)\n",
    "\n",
    "# Mostramos la intersección\n",
    "print(\"Intersección de los conjuntos:\", interseccion)\n"
   ]
  },
  {
   "cell_type": "markdown",
   "id": "31b460dc",
   "metadata": {},
   "source": [
    "### Actividad 9:\n",
    "Eliminar duplicados de una lista usando un set."
   ]
  },
  {
   "cell_type": "code",
   "execution_count": null,
   "id": "0ef62008",
   "metadata": {},
   "outputs": [
    {
     "name": "stdout",
     "output_type": "stream",
     "text": [
      "Lista sin duplicados: [1, 2, 3, 4, 5]\n"
     ]
    }
   ],
   "source": [
    "\n",
    "lista_original = [1, 2, 2, 3, 4, 4, 5]\n",
    "\n",
    "# Convertimos la lista a un conjunto para eliminar duplicados\n",
    "conjunto_sin_duplicados = set(lista_original)\n",
    "\n",
    "# Convertimos el conjunto nuevamente a lista\n",
    "lista_sin_duplicados = list(conjunto_sin_duplicados)\n",
    "\n",
    "print(\"Lista sin duplicados:\", lista_sin_duplicados)"
   ]
  },
  {
   "cell_type": "markdown",
   "id": "075f1f2c",
   "metadata": {},
   "source": [
    "### Actividad 10:\n",
    "\n",
    "Escribir un programa que cree 2 matrices y realice su multiplicacion."
   ]
  },
  {
   "cell_type": "code",
   "execution_count": null,
   "id": "4c1fd0e1",
   "metadata": {},
   "outputs": [
    {
     "name": "stdout",
     "output_type": "stream",
     "text": [
      "Matriz A (4x3):\n",
      "[6, 8, 6]\n",
      "[9, 1, 3]\n",
      "[1, 9, 8]\n",
      "[7, 8, 3]\n",
      "\n",
      "Matriz B (3x2):\n",
      "[7, 3]\n",
      "[4, 6]\n",
      "[1, 5]\n",
      "\n",
      "Matriz Resultado (4x2):\n",
      "[80, 96]\n",
      "[70, 48]\n",
      "[51, 97]\n",
      "[84, 84]\n"
     ]
    }
   ],
   "source": [
    "from random import randint\n",
    "\n",
    "# Generamos filas y columnas aleatorias pero validas para poder resolver la multiplicación\n",
    "# ya que la condicion que debe cumplir es que las columnas de la primera matriz deben coincidir con la fila de la segunda matriz\n",
    "\n",
    "filas_a = randint(2, 4)        \n",
    "columnas_a = randint(2, 4)      \n",
    "columnas_b = randint(2, 4)      \n",
    "filas_b = columnas_a           \n",
    "\n",
    "# Generamos matriz A con valores aleatorios entre 1 y 9\n",
    "matriz_a = []\n",
    "for i in range(filas_a):\n",
    "    fila = []\n",
    "    for j in range(columnas_a):\n",
    "        fila.append(randint(1, 9))\n",
    "    matriz_a.append(fila)\n",
    "\n",
    "# Generamos matriz B con valores aleatorios entre 1 y 9\n",
    "matriz_b = []\n",
    "for i in range(filas_b):\n",
    "    fila = []\n",
    "    for j in range(columnas_b):\n",
    "        fila.append(randint(1, 9))\n",
    "    matriz_b.append(fila)\n",
    "\n",
    "# Inicializamos matriz resultado con ceros (filas de A x columnas de B)\n",
    "matriz_resultado = []\n",
    "for i in range(filas_a):\n",
    "    fila = []\n",
    "    for j in range(columnas_b):\n",
    "        fila.append(0)\n",
    "    matriz_resultado.append(fila)\n",
    "\n",
    "# Multiplicación de matrices\n",
    "for i in range(filas_a):\n",
    "    for j in range(columnas_b):\n",
    "        for k in range(columnas_a):\n",
    "            matriz_resultado[i][j] += matriz_a[i][k] * matriz_b[k][j]\n",
    "\n",
    "# Mostrar matrices\n",
    "print(f\"Matriz A ({filas_a}x{columnas_a}):\")\n",
    "for fila in matriz_a:\n",
    "    print(fila)\n",
    "\n",
    "print(f\"\\nMatriz B ({filas_b}x{columnas_b}):\")\n",
    "for fila in matriz_b:\n",
    "    print(fila)\n",
    "\n",
    "print(f\"\\nMatriz Resultado ({filas_a}x{columnas_b}):\")\n",
    "for fila in matriz_resultado:\n",
    "    print(fila)"
   ]
  }
 ],
 "metadata": {
  "kernelspec": {
   "display_name": "Python 3",
   "language": "python",
   "name": "python3"
  },
  "language_info": {
   "codemirror_mode": {
    "name": "ipython",
    "version": 3
   },
   "file_extension": ".py",
   "mimetype": "text/x-python",
   "name": "python",
   "nbconvert_exporter": "python",
   "pygments_lexer": "ipython3",
   "version": "3.13.2"
  }
 },
 "nbformat": 4,
 "nbformat_minor": 5
}
